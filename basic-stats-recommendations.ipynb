{
 "cells": [
  {
   "cell_type": "markdown",
   "id": "1365ec3c-155c-43fe-b995-e87e7f387727",
   "metadata": {},
   "source": [
    "# Party recommendations"
   ]
  },
  {
   "cell_type": "code",
   "execution_count": 1,
   "id": "0e09e56e-0680-4952-b8ac-1e6d28158b66",
   "metadata": {},
   "outputs": [],
   "source": [
    "import pandas as pd"
   ]
  },
  {
   "cell_type": "code",
   "execution_count": 2,
   "id": "363dcb33-8477-4b77-ad04-3a9c3523f131",
   "metadata": {},
   "outputs": [],
   "source": [
    "recom = pd.read_csv(\"recommendations.csv\")"
   ]
  },
  {
   "cell_type": "code",
   "execution_count": 3,
   "id": "4810e025-3f08-4c18-bfde-fb557dc868ba",
   "metadata": {},
   "outputs": [
    {
     "data": {
      "text/html": [
       "<div>\n",
       "<style scoped>\n",
       "    .dataframe tbody tr th:only-of-type {\n",
       "        vertical-align: middle;\n",
       "    }\n",
       "\n",
       "    .dataframe tbody tr th {\n",
       "        vertical-align: top;\n",
       "    }\n",
       "\n",
       "    .dataframe thead th {\n",
       "        text-align: right;\n",
       "    }\n",
       "</style>\n",
       "<table border=\"1\" class=\"dataframe\">\n",
       "  <thead>\n",
       "    <tr style=\"text-align: right;\">\n",
       "      <th></th>\n",
       "      <th>ref_id</th>\n",
       "      <th>date</th>\n",
       "      <th>party</th>\n",
       "      <th>recommendation</th>\n",
       "    </tr>\n",
       "  </thead>\n",
       "  <tbody>\n",
       "    <tr>\n",
       "      <th>0</th>\n",
       "      <td>224</td>\n",
       "      <td>7 février 1971</td>\n",
       "      <td>PRD</td>\n",
       "      <td>oui</td>\n",
       "    </tr>\n",
       "    <tr>\n",
       "      <th>1</th>\n",
       "      <td>224</td>\n",
       "      <td>7 février 1971</td>\n",
       "      <td>PDC</td>\n",
       "      <td>oui</td>\n",
       "    </tr>\n",
       "    <tr>\n",
       "      <th>2</th>\n",
       "      <td>224</td>\n",
       "      <td>7 février 1971</td>\n",
       "      <td>PS</td>\n",
       "      <td>oui</td>\n",
       "    </tr>\n",
       "    <tr>\n",
       "      <th>3</th>\n",
       "      <td>224</td>\n",
       "      <td>7 février 1971</td>\n",
       "      <td>UDC</td>\n",
       "      <td>oui</td>\n",
       "    </tr>\n",
       "    <tr>\n",
       "      <th>4</th>\n",
       "      <td>224</td>\n",
       "      <td>7 février 1971</td>\n",
       "      <td>PLS</td>\n",
       "      <td>oui</td>\n",
       "    </tr>\n",
       "    <tr>\n",
       "      <th>...</th>\n",
       "      <td>...</td>\n",
       "      <td>...</td>\n",
       "      <td>...</td>\n",
       "      <td>...</td>\n",
       "    </tr>\n",
       "    <tr>\n",
       "      <th>6231</th>\n",
       "      <td>6660</td>\n",
       "      <td>3 mars 2024</td>\n",
       "      <td>PEV</td>\n",
       "      <td>non</td>\n",
       "    </tr>\n",
       "    <tr>\n",
       "      <th>6232</th>\n",
       "      <td>6660</td>\n",
       "      <td>3 mars 2024</td>\n",
       "      <td>PVL</td>\n",
       "      <td>non</td>\n",
       "    </tr>\n",
       "    <tr>\n",
       "      <th>6233</th>\n",
       "      <td>6660</td>\n",
       "      <td>3 mars 2024</td>\n",
       "      <td>VERT-E-S</td>\n",
       "      <td>non</td>\n",
       "    </tr>\n",
       "    <tr>\n",
       "      <th>6234</th>\n",
       "      <td>6660</td>\n",
       "      <td>3 mars 2024</td>\n",
       "      <td>PST</td>\n",
       "      <td>none</td>\n",
       "    </tr>\n",
       "    <tr>\n",
       "      <th>6235</th>\n",
       "      <td>6660</td>\n",
       "      <td>3 mars 2024</td>\n",
       "      <td>UDF</td>\n",
       "      <td>oui</td>\n",
       "    </tr>\n",
       "  </tbody>\n",
       "</table>\n",
       "<p>6236 rows × 4 columns</p>\n",
       "</div>"
      ],
      "text/plain": [
       "     ref_id            date     party recommendation\n",
       "0       224  7 février 1971       PRD            oui\n",
       "1       224  7 février 1971       PDC            oui\n",
       "2       224  7 février 1971        PS            oui\n",
       "3       224  7 février 1971       UDC            oui\n",
       "4       224  7 février 1971       PLS            oui\n",
       "...     ...             ...       ...            ...\n",
       "6231   6660     3 mars 2024       PEV            non\n",
       "6232   6660     3 mars 2024       PVL            non\n",
       "6233   6660     3 mars 2024  VERT-E-S            non\n",
       "6234   6660     3 mars 2024       PST           none\n",
       "6235   6660     3 mars 2024       UDF            oui\n",
       "\n",
       "[6236 rows x 4 columns]"
      ]
     },
     "execution_count": 3,
     "metadata": {},
     "output_type": "execute_result"
    }
   ],
   "source": [
    "recom"
   ]
  },
  {
   "cell_type": "code",
   "execution_count": 4,
   "id": "85e92e1e-28af-47c6-be1a-e26aec058c3c",
   "metadata": {},
   "outputs": [
    {
     "data": {
      "text/html": [
       "<div>\n",
       "<style scoped>\n",
       "    .dataframe tbody tr th:only-of-type {\n",
       "        vertical-align: middle;\n",
       "    }\n",
       "\n",
       "    .dataframe tbody tr th {\n",
       "        vertical-align: top;\n",
       "    }\n",
       "\n",
       "    .dataframe thead th {\n",
       "        text-align: right;\n",
       "    }\n",
       "</style>\n",
       "<table border=\"1\" class=\"dataframe\">\n",
       "  <thead>\n",
       "    <tr style=\"text-align: right;\">\n",
       "      <th></th>\n",
       "      <th>ref_id</th>\n",
       "      <th>date</th>\n",
       "      <th>party</th>\n",
       "      <th>recommendation</th>\n",
       "    </tr>\n",
       "  </thead>\n",
       "  <tbody>\n",
       "    <tr>\n",
       "      <th>count</th>\n",
       "      <td>6236</td>\n",
       "      <td>6236</td>\n",
       "      <td>6236</td>\n",
       "      <td>6236</td>\n",
       "    </tr>\n",
       "    <tr>\n",
       "      <th>unique</th>\n",
       "      <td>455</td>\n",
       "      <td>155</td>\n",
       "      <td>22</td>\n",
       "      <td>5</td>\n",
       "    </tr>\n",
       "    <tr>\n",
       "      <th>top</th>\n",
       "      <td>224</td>\n",
       "      <td>18 mai 2003</td>\n",
       "      <td>PS</td>\n",
       "      <td>oui</td>\n",
       "    </tr>\n",
       "    <tr>\n",
       "      <th>freq</th>\n",
       "      <td>16</td>\n",
       "      <td>117</td>\n",
       "      <td>455</td>\n",
       "      <td>2813</td>\n",
       "    </tr>\n",
       "  </tbody>\n",
       "</table>\n",
       "</div>"
      ],
      "text/plain": [
       "       ref_id         date party recommendation\n",
       "count    6236         6236  6236           6236\n",
       "unique    455          155    22              5\n",
       "top       224  18 mai 2003    PS            oui\n",
       "freq       16          117   455           2813"
      ]
     },
     "execution_count": 4,
     "metadata": {},
     "output_type": "execute_result"
    }
   ],
   "source": [
    "recom.describe()"
   ]
  },
  {
   "cell_type": "markdown",
   "id": "30272c7f-8c6a-47d0-bd10-fd05f1b622e2",
   "metadata": {},
   "source": [
    "We can see that there are 455 referenda in the dataset, from 1971 to 2024. 22 Parties"
   ]
  },
  {
   "cell_type": "code",
   "execution_count": 5,
   "id": "0f601bdc-557f-4a2a-aba9-89b14eba8640",
   "metadata": {},
   "outputs": [],
   "source": [
    "byParty = {party: recom[recom[\"party\"] == party] for party in recom[\"party\"].unique()}"
   ]
  },
  {
   "cell_type": "code",
   "execution_count": 6,
   "id": "dba578f3-6bb3-4683-bccf-3185f540815a",
   "metadata": {},
   "outputs": [
    {
     "name": "stdout",
     "output_type": "stream",
     "text": [
      "PRD gave a vote recommendation for 316 referenda\n",
      "oui: 191, non: 124, blanc: 0, liberté de vote: 1, none: 10\n",
      "\n",
      "PDC gave a vote recommendation for 415 referenda\n",
      "oui: 248, non: 165, blanc: 0, liberté de vote: 2, none: 11\n",
      "\n",
      "PS gave a vote recommendation for 442 referenda\n",
      "oui: 282, non: 138, blanc: 2, liberté de vote: 20, none: 13\n",
      "\n",
      "UDC gave a vote recommendation for 442 referenda\n",
      "oui: 224, non: 214, blanc: 0, liberté de vote: 4, none: 13\n",
      "\n",
      "PLS gave a vote recommendation for 317 referenda\n",
      "oui: 160, non: 154, blanc: 0, liberté de vote: 3, none: 17\n",
      "\n",
      "AdI gave a vote recommendation for 233 referenda\n",
      "oui: 153, non: 70, blanc: 1, liberté de vote: 9, none: 10\n",
      "\n",
      "PEV gave a vote recommendation for 440 referenda\n",
      "oui: 286, non: 147, blanc: 1, liberté de vote: 6, none: 15\n",
      "\n",
      "PCS gave a vote recommendation for 180 referenda\n",
      "oui: 104, non: 72, blanc: 0, liberté de vote: 4, none: 204\n",
      "\n",
      "PST gave a vote recommendation for 411 referenda\n",
      "oui: 213, non: 183, blanc: 0, liberté de vote: 15, none: 44\n",
      "\n",
      "POCH gave a vote recommendation for 118 referenda\n",
      "oui: 67, non: 46, blanc: 1, liberté de vote: 4, none: 35\n",
      "\n",
      "PES gave a vote recommendation for 335 referenda\n",
      "oui: 204, non: 120, blanc: 2, liberté de vote: 9, none: 118\n",
      "\n",
      "DS gave a vote recommendation for 356 referenda\n",
      "oui: 166, non: 161, blanc: 1, liberté de vote: 28, none: 20\n",
      "\n",
      "Rep. gave a vote recommendation for 103 referenda\n",
      "oui: 41, non: 58, blanc: 0, liberté de vote: 4, none: 10\n",
      "\n",
      "UDF gave a vote recommendation for 303 referenda\n",
      "oui: 124, non: 177, blanc: 0, liberté de vote: 2, none: 111\n",
      "\n",
      "PSL gave a vote recommendation for 205 referenda\n",
      "oui: 71, non: 133, blanc: 0, liberté de vote: 1, none: 121\n",
      "\n",
      "Lega gave a vote recommendation for 175 referenda\n",
      "oui: 65, non: 88, blanc: 1, liberté de vote: 21, none: 222\n",
      "\n",
      "PVL gave a vote recommendation for 136 referenda\n",
      "oui: 66, non: 68, blanc: 0, liberté de vote: 2, none: 3\n",
      "\n",
      "PBD gave a vote recommendation for 104 referenda\n",
      "oui: 50, non: 54, blanc: 0, liberté de vote: 0, none: 6\n",
      "\n",
      "PLR gave a vote recommendation for 129 referenda\n",
      "oui: 58, non: 71, blanc: 0, liberté de vote: 0, none: 0\n",
      "\n",
      "MCR gave a vote recommendation for 35 referenda\n",
      "oui: 21, non: 14, blanc: 0, liberté de vote: 0, none: 27\n",
      "\n",
      "Centre * gave a vote recommendation for 28 referenda\n",
      "oui: 18, non: 10, blanc: 0, liberté de vote: 0, none: 1\n",
      "\n",
      "VERT-E-S gave a vote recommendation for 2 referenda\n",
      "oui: 1, non: 1, blanc: 0, liberté de vote: 0, none: 0\n",
      "\n"
     ]
    }
   ],
   "source": [
    "possibleRecoms = [\"oui\", \"non\", \"blanc\", \"liberté de vote\", \"none\"]\n",
    "for party, df in byParty.items():\n",
    "    print(party, \"gave a vote recommendation for\", len(df[df[\"recommendation\"] != \"none\"]), \"referenda\")\n",
    "    print(\", \".join(r + \": \" + str(len(df[df[\"recommendation\"] == r])) for r in possibleRecoms))\n",
    "    print()"
   ]
  },
  {
   "cell_type": "markdown",
   "id": "7324fbf8-1ba8-4ee7-96aa-a92750bcb88a",
   "metadata": {},
   "source": [
    "We can notice that parties are different from one another, bigger parties (UDC, PS, PRD, PDC) tend to support most referenda, whereas PLR, PVL, PBD don't. We can notice that Lega is the party that most frequently gave no recommendation on federal referenda, which can make sense as this party focuses mostly on its own canton (Ticino). \"Liberté de vote\" and \"blanc\" are rather rare, parties usually pick a side in referenda."
   ]
  },
  {
   "cell_type": "markdown",
   "id": "ac69d9ea-5c41-468d-9f3f-95b384978a7d",
   "metadata": {},
   "source": [
    "For the deeper data analysis and visualization, we have to make links between data. For instance, VERT-E-S is present there for only 2 referenda because it changed its name, it was formerly known as PES."
   ]
  },
  {
   "cell_type": "code",
   "execution_count": null,
   "id": "00299a71-5175-457f-a360-62ef7bb5d69b",
   "metadata": {},
   "outputs": [],
   "source": []
  }
 ],
 "metadata": {
  "kernelspec": {
   "display_name": "Python 3",
   "language": "python",
   "name": "python3"
  },
  "language_info": {
   "codemirror_mode": {
    "name": "ipython",
    "version": 3
   },
   "file_extension": ".py",
   "mimetype": "text/x-python",
   "name": "python",
   "nbconvert_exporter": "python",
   "pygments_lexer": "ipython3",
   "version": "3.9.12"
  }
 },
 "nbformat": 4,
 "nbformat_minor": 5
}
